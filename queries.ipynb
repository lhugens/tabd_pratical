{
 "cells": [
  {
   "cell_type": "code",
   "execution_count": 2,
   "id": "6ffcae9b-424e-44c0-8970-db748f8902bf",
   "metadata": {},
   "outputs": [],
   "source": [
    "import psycopg2"
   ]
  },
  {
   "cell_type": "code",
   "execution_count": 31,
   "id": "32714ee0-81cf-4d09-976e-cccb1e2e551f",
   "metadata": {},
   "outputs": [],
   "source": [
    "conn = psycopg2.connect(\"dbname=leo user=leo\")\n",
    "cursor_psql = conn.cursor()\n",
    "\n",
    "# the average duration of the trip per route \n",
    "sql = '''\n",
    "select\n",
    "    route_id, \n",
    "    stop_id_start, \n",
    "    stop_id_end,\n",
    "    to_char(max(end_stop_time - init_stop_time), 'HH24:MI:SS') as diff_time\n",
    "from\n",
    "    warehouse\n",
    "group by cube (route_id, stop_id_start, stop_id_end)\n",
    "'''\n",
    "\n",
    "cursor_psql.execute(sql)\n",
    "results = cursor_psql.fetchall()\n",
    "for row in results[:5]:\n",
    "    if row[1] == None and row[2] == None:\n",
    "        print(f'route {row[0]}, max_time {row[-1]}h')"
   ]
  },
  {
   "cell_type": "code",
   "execution_count": 28,
   "id": "69579905-8c3b-45d7-a412-0a1c4ef5872b",
   "metadata": {},
   "outputs": [
    {
     "name": "stdout",
     "output_type": "stream",
     "text": [
      "(None, None, 1434319)\n",
      "('207', None, 108461)\n",
      "('500', None, 68674)\n",
      "('206', None, 67052)\n",
      "('403', None, 62229)\n"
     ]
    }
   ],
   "source": [
    "conn = psycopg2.connect(\"dbname=leo user=leo\")\n",
    "cursor_psql = conn.cursor()\n",
    "\n",
    "# the number of trips at each time per route\n",
    "sql = '''\n",
    "select\n",
    "    route_id, \n",
    "    to_char(init_stop_time, 'HH24:MI:SS') as init_time,\n",
    "    count(*)\n",
    "from\n",
    "    warehouse \n",
    "group by cube (route_id, init_stop_time)\n",
    "order by count(*) desc\n",
    "'''\n",
    "\n",
    "cursor_psql.execute(sql)\n",
    "results = cursor_psql.fetchall()\n",
    "for row in results[:5]:\n",
    "    print(f'route id {row[0]}, init stop time {row[1]}, amount [')"
   ]
  },
  {
   "cell_type": "code",
   "execution_count": 29,
   "id": "6acdac2e-4d42-4750-a10e-cc90a69b669b",
   "metadata": {},
   "outputs": [
    {
     "name": "stdout",
     "output_type": "stream",
     "text": [
      "trip_id 106_0_U_10, delay 00:10:53h, taxi duration 00:05:34h, bus duration 00:04:36h\n",
      "trip_id 106_0_U_10, delay 00:10:53h, taxi duration 00:05:34h, bus duration 00:04:36h\n",
      "trip_id 106_0_U_10, delay 00:10:53h, taxi duration 00:05:34h, bus duration 00:04:36h\n",
      "trip_id 106_0_U_14, delay 00:27:46h, taxi duration 00:10:27h, bus duration 00:04:35h\n",
      "trip_id 106_0_U_14, delay 00:27:46h, taxi duration 00:10:27h, bus duration 00:04:35h\n"
     ]
    }
   ],
   "source": [
    "conn = psycopg2.connect(\"dbname=leo user=leo\")\n",
    "cursor_psql = conn.cursor()\n",
    "\n",
    "# per trip_id, the delay (how much time the bus arrives after the taxi), \n",
    "# the taxi trip duration, and the bus trip duration\n",
    "sql = '''\n",
    "select\n",
    "    trip_id,\n",
    "    to_char(initial_ts, 'HH24:MI:SS') as i_ts,\n",
    "    to_char(init_stop_time, 'HH24:MI:SS') as i_stop_time,\n",
    "    to_char(max(init_stop_time - initial_ts), 'HH24:MI:SS') as diff_time,\n",
    "    to_char(max(final_ts - initial_ts), 'HH24:MI:SS') as taxi_duration,\n",
    "    to_char(max(end_stop_time - init_stop_time), 'HH24:MI:SS') as bus_duration\n",
    "from\n",
    "    warehouse \n",
    "group by cube (trip_id, initial_ts, init_stop_time)\n",
    "'''\n",
    "\n",
    "cursor_psql.execute(sql)\n",
    "results = cursor_psql.fetchall()\n",
    "for row in results[:5]:\n",
    "    print(f'trip_id {row[0]}, delay {row[3]}h, taxi duration {row[4]}h, bus duration {row[5]}h')"
   ]
  },
  {
   "cell_type": "code",
   "execution_count": 30,
   "id": "c30c45f1-f888-4323-add5-aeaaefb4bae2",
   "metadata": {},
   "outputs": [
    {
     "name": "stdout",
     "output_type": "stream",
     "text": [
      "trip id 106_0_U_10, bus delay 00:10:53h, arrival delay 00:09:55h\n",
      "trip id 106_0_U_10, bus delay 00:10:53h, arrival delay 00:09:55h\n",
      "trip id 106_0_U_10, bus delay 00:10:53h, arrival delay 00:09:55h\n",
      "trip id 106_0_U_14, bus delay 00:27:46h, arrival delay 00:21:54h\n",
      "trip id 106_0_U_14, bus delay 00:27:46h, arrival delay 00:21:54h\n"
     ]
    }
   ],
   "source": [
    "conn = psycopg2.connect(\"dbname=leo user=leo\")\n",
    "cursor_psql = conn.cursor()\n",
    "\n",
    "# per trip_id, the bus delay, and trip delay\n",
    "sql = '''\n",
    "select\n",
    "    trip_id,\n",
    "    to_char(max(init_stop_time - initial_ts), 'HH24:MI:SS') as bus_delay,\n",
    "    to_char(max(end_stop_time - final_ts), 'HH24:MI:SS') as arrival_delay\n",
    "from\n",
    "    warehouse \n",
    "group by cube (trip_id, initial_ts, init_stop_time)\n",
    "'''\n",
    "\n",
    "cursor_psql.execute(sql)\n",
    "results = cursor_psql.fetchall()\n",
    "for row in results[:5]:\n",
    "    print(f'trip id {row[0]}, bus delay {row[1]}h, arrival delay {row[2]}h')"
   ]
  },
  {
   "cell_type": "code",
   "execution_count": null,
   "id": "23436712-45bf-4882-b1a1-b4de8581850f",
   "metadata": {},
   "outputs": [],
   "source": []
  }
 ],
 "metadata": {
  "kernelspec": {
   "display_name": "Python 3 (ipykernel)",
   "language": "python",
   "name": "python3"
  },
  "language_info": {
   "codemirror_mode": {
    "name": "ipython",
    "version": 3
   },
   "file_extension": ".py",
   "mimetype": "text/x-python",
   "name": "python",
   "nbconvert_exporter": "python",
   "pygments_lexer": "ipython3",
   "version": "3.9.6"
  }
 },
 "nbformat": 4,
 "nbformat_minor": 5
}
