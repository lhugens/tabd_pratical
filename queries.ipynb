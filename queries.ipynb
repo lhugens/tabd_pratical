{
 "cells": [
  {
   "cell_type": "code",
   "execution_count": 2,
   "id": "6ffcae9b-424e-44c0-8970-db748f8902bf",
   "metadata": {},
   "outputs": [],
   "source": [
    "import psycopg2"
   ]
  },
  {
   "cell_type": "code",
   "execution_count": 3,
   "id": "32714ee0-81cf-4d09-976e-cccb1e2e551f",
   "metadata": {},
   "outputs": [
    {
     "name": "stdout",
     "output_type": "stream",
     "text": [
      "route 106, max_time 00:13:00h\n",
      "route 107, max_time 00:25:00h\n",
      "route 10M, max_time 00:25:00h\n",
      "route 11M, max_time 00:25:00h\n",
      "route 12M, max_time 00:28:00h\n",
      "route 13M, max_time 00:27:00h\n",
      "route 1M, max_time 00:25:00h\n",
      "route 200, max_time 00:44:00h\n",
      "route 201, max_time 00:53:00h\n",
      "route 202, max_time 00:54:00h\n",
      "route 203, max_time 00:51:00h\n",
      "route 204, max_time 01:05:30h\n",
      "route 205, max_time 01:03:00h\n",
      "route 206, max_time 00:48:08h\n",
      "route 207, max_time 01:00:00h\n",
      "route 208, max_time 00:52:00h\n",
      "route 209, max_time 00:36:00h\n",
      "route 300, max_time 01:19:00h\n",
      "route 301, max_time 01:27:00h\n",
      "route 302, max_time 00:41:55h\n",
      "route 303, max_time 00:52:10h\n",
      "route 304, max_time 00:27:00h\n",
      "route 305, max_time 00:41:11h\n",
      "route 3M, max_time 00:28:00h\n",
      "route 400, max_time 00:42:00h\n",
      "route 401, max_time 00:30:00h\n",
      "route 402, max_time 00:35:05h\n",
      "route 403, max_time 00:40:00h\n",
      "route 4M, max_time 00:25:00h\n",
      "route 500, max_time 00:46:00h\n",
      "route 501, max_time 00:59:18h\n",
      "route 502, max_time 00:47:04h\n",
      "route 503, max_time 01:01:33h\n",
      "route 504, max_time 00:50:00h\n",
      "route 505, max_time 00:53:00h\n",
      "route 506, max_time 01:00:41h\n",
      "route 507, max_time 01:07:55h\n",
      "route 508, max_time 01:10:59h\n",
      "route 5M, max_time 00:28:00h\n",
      "route 600, max_time 00:54:54h\n",
      "route 601, max_time 00:55:00h\n",
      "route 602, max_time 01:20:00h\n",
      "route 603, max_time 01:05:29h\n",
      "route 604, max_time 01:02:00h\n",
      "route 700, max_time 00:53:00h\n",
      "route 701, max_time 01:02:00h\n",
      "route 702, max_time 00:51:38h\n",
      "route 703, max_time 00:55:44h\n",
      "route 704, max_time 01:32:00h\n",
      "route 705, max_time 01:08:00h\n",
      "route 706, max_time 00:47:58h\n",
      "route 707, max_time 00:38:34h\n",
      "route 7M, max_time 00:28:00h\n",
      "route 800, max_time 00:44:51h\n",
      "route 801, max_time 00:42:58h\n",
      "route 803, max_time 01:09:00h\n",
      "route 804, max_time 00:40:00h\n",
      "route 805, max_time 00:43:00h\n",
      "route 806, max_time 00:36:00h\n",
      "route 8M, max_time 00:28:00h\n",
      "route 901, max_time 00:59:02h\n",
      "route 902, max_time 00:43:00h\n",
      "route 903, max_time 01:09:51h\n",
      "route 904, max_time 00:31:00h\n",
      "route 905, max_time 00:38:00h\n",
      "route 906, max_time 01:05:41h\n",
      "route 907, max_time 01:01:00h\n",
      "route 910, max_time 00:29:00h\n",
      "route 920, max_time 00:22:00h\n",
      "route 9M, max_time 00:28:00h\n",
      "route None, max_time 01:32:00h\n"
     ]
    }
   ],
   "source": [
    "conn = psycopg2.connect(\"dbname=leo user=leo\")\n",
    "cursor_psql = conn.cursor()\n",
    "\n",
    "sql = '''\n",
    "select\n",
    "    route_id, \n",
    "    stop_id_start, \n",
    "    stop_id_end,\n",
    "    to_char(max(end_stop_time - init_stop_time), 'HH24:MI:SS') as diff_time\n",
    "from\n",
    "    warehouse\n",
    "group by cube (route_id, stop_id_start, stop_id_end)\n",
    "'''\n",
    "\n",
    "cursor_psql.execute(sql)\n",
    "results = cursor_psql.fetchall()\n",
    "for row in results:\n",
    "    if row[1] == None and row[2] == None:\n",
    "        print(f'route {row[0]}, max_time {row[-1]}h')"
   ]
  },
  {
   "cell_type": "code",
   "execution_count": 4,
   "id": "69579905-8c3b-45d7-a412-0a1c4ef5872b",
   "metadata": {},
   "outputs": [
    {
     "name": "stdout",
     "output_type": "stream",
     "text": [
      "(None, None, 1434319)\n",
      "('207', None, 108461)\n",
      "('500', None, 68674)\n",
      "('206', None, 67052)\n",
      "('403', None, 62229)\n"
     ]
    }
   ],
   "source": [
    "conn = psycopg2.connect(\"dbname=leo user=leo\")\n",
    "cursor_psql = conn.cursor()\n",
    "\n",
    "sql = '''\n",
    "select\n",
    "    route_id, \n",
    "    to_char(init_stop_time, 'HH24:MI:SS') as init_time,\n",
    "    count(*)\n",
    "from\n",
    "    warehouse \n",
    "group by cube (route_id, init_stop_time)\n",
    "order by count(*) desc\n",
    "'''\n",
    "\n",
    "cursor_psql.execute(sql)\n",
    "results = cursor_psql.fetchall()\n",
    "for row in results[:5]:\n",
    "    print(row)"
   ]
  },
  {
   "cell_type": "code",
   "execution_count": 11,
   "id": "6acdac2e-4d42-4750-a10e-cc90a69b669b",
   "metadata": {},
   "outputs": [
    {
     "name": "stdout",
     "output_type": "stream",
     "text": [
      "trip_id 106_0_U_10, delay 00:10:53h\n",
      "trip_id 106_0_U_10, delay 00:10:53h\n",
      "trip_id 106_0_U_10, delay 00:10:53h\n",
      "trip_id 106_0_U_14, delay 00:27:46h\n",
      "trip_id 106_0_U_14, delay 00:27:46h\n"
     ]
    }
   ],
   "source": [
    "conn = psycopg2.connect(\"dbname=leo user=leo\")\n",
    "cursor_psql = conn.cursor()\n",
    "\n",
    "# delay: how much time after the taxi would be taken did the bus arrive\n",
    "sql = '''\n",
    "select\n",
    "    trip_id,\n",
    "    to_char(initial_ts, 'HH24:MI:SS') as i_ts,\n",
    "    to_char(init_stop_time, 'HH24:MI:SS') as i_stop_time,\n",
    "    to_char(max(init_stop_time - initial_ts), 'HH24:MI:SS') as diff_time\n",
    "from\n",
    "    warehouse \n",
    "group by cube (trip_id, initial_ts, init_stop_time)\n",
    "'''\n",
    "\n",
    "cursor_psql.execute(sql)\n",
    "results = cursor_psql.fetchall()\n",
    "for row in results[:5]:\n",
    "    print(f'trip_id {row[0]}, delay {row[-1]}h')"
   ]
  },
  {
   "cell_type": "code",
   "execution_count": null,
   "id": "c30c45f1-f888-4323-add5-aeaaefb4bae2",
   "metadata": {},
   "outputs": [],
   "source": []
  }
 ],
 "metadata": {
  "kernelspec": {
   "display_name": "Python 3 (ipykernel)",
   "language": "python",
   "name": "python3"
  },
  "language_info": {
   "codemirror_mode": {
    "name": "ipython",
    "version": 3
   },
   "file_extension": ".py",
   "mimetype": "text/x-python",
   "name": "python",
   "nbconvert_exporter": "python",
   "pygments_lexer": "ipython3",
   "version": "3.9.6"
  }
 },
 "nbformat": 4,
 "nbformat_minor": 5
}
