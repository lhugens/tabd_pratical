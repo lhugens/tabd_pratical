{
 "cells": [
  {
   "cell_type": "code",
   "execution_count": 2,
   "id": "6ffcae9b-424e-44c0-8970-db748f8902bf",
   "metadata": {},
   "outputs": [],
   "source": [
    "import psycopg2"
   ]
  },
  {
   "cell_type": "code",
   "execution_count": 39,
   "id": "32714ee0-81cf-4d09-976e-cccb1e2e551f",
   "metadata": {},
   "outputs": [
    {
     "name": "stdout",
     "output_type": "stream",
     "text": [
      "route: 106, max_time: 00:13:00h\n",
      "route: 107, max_time: 00:25:00h\n",
      "route: 10M, max_time: 00:25:00h\n",
      "route: 11M, max_time: 00:25:00h\n",
      "route: 12M, max_time: 00:28:00h\n",
      "route: 13M, max_time: 00:27:00h\n",
      "route: 1M, max_time: 00:25:00h\n",
      "route: 200, max_time: 00:44:00h\n",
      "route: 201, max_time: 00:53:00h\n",
      "route: 202, max_time: 00:54:00h\n",
      "route: 203, max_time: 00:51:00h\n",
      "route: 204, max_time: 01:05:30h\n",
      "route: 205, max_time: 01:03:00h\n",
      "route: 206, max_time: 00:48:08h\n",
      "route: 207, max_time: 01:00:00h\n",
      "route: 208, max_time: 00:52:00h\n",
      "route: 209, max_time: 00:36:00h\n",
      "route: 300, max_time: 01:19:00h\n",
      "route: 301, max_time: 01:27:00h\n",
      "route: 302, max_time: 00:41:55h\n",
      "route: 303, max_time: 00:52:10h\n",
      "route: 304, max_time: 00:27:00h\n",
      "route: 305, max_time: 00:41:11h\n",
      "route: 3M, max_time: 00:28:00h\n",
      "route: 400, max_time: 00:42:00h\n",
      "route: 401, max_time: 00:30:00h\n",
      "route: 402, max_time: 00:35:05h\n",
      "route: 403, max_time: 00:40:00h\n",
      "route: 4M, max_time: 00:25:00h\n",
      "route: 500, max_time: 00:46:00h\n",
      "route: 501, max_time: 00:59:18h\n",
      "route: 502, max_time: 00:47:04h\n",
      "route: 503, max_time: 01:01:33h\n",
      "route: 504, max_time: 00:50:00h\n",
      "route: 505, max_time: 00:53:00h\n",
      "route: 506, max_time: 01:00:41h\n",
      "route: 507, max_time: 01:07:55h\n",
      "route: 508, max_time: 01:10:59h\n",
      "route: 5M, max_time: 00:28:00h\n",
      "route: 600, max_time: 00:54:54h\n",
      "route: 601, max_time: 00:55:00h\n",
      "route: 602, max_time: 01:20:00h\n",
      "route: 603, max_time: 01:05:29h\n",
      "route: 604, max_time: 01:02:00h\n",
      "route: 700, max_time: 00:53:00h\n",
      "route: 701, max_time: 01:02:00h\n",
      "route: 702, max_time: 00:51:38h\n",
      "route: 703, max_time: 00:55:44h\n",
      "route: 704, max_time: 01:32:00h\n",
      "route: 705, max_time: 01:08:00h\n",
      "route: 706, max_time: 00:47:58h\n",
      "route: 707, max_time: 00:38:34h\n",
      "route: 7M, max_time: 00:28:00h\n",
      "route: 800, max_time: 00:44:51h\n",
      "route: 801, max_time: 00:42:58h\n",
      "route: 803, max_time: 01:09:00h\n",
      "route: 804, max_time: 00:40:00h\n",
      "route: 805, max_time: 00:43:00h\n",
      "route: 806, max_time: 00:36:00h\n",
      "route: 8M, max_time: 00:28:00h\n",
      "route: 901, max_time: 00:59:02h\n",
      "route: 902, max_time: 00:43:00h\n",
      "route: 903, max_time: 01:09:51h\n",
      "route: 904, max_time: 00:31:00h\n",
      "route: 905, max_time: 00:38:00h\n",
      "route: 906, max_time: 01:05:41h\n",
      "route: 907, max_time: 01:01:00h\n",
      "route: 910, max_time: 00:29:00h\n",
      "route: 920, max_time: 00:22:00h\n",
      "route: 9M, max_time: 00:28:00h\n",
      "route: None, max_time: 01:32:00h\n"
     ]
    }
   ],
   "source": [
    "conn = psycopg2.connect(\"dbname=leo user=leo\")\n",
    "cursor_psql = conn.cursor()\n",
    "\n",
    "# the average duration of the trip per route \n",
    "sql = '''\n",
    "select\n",
    "    route_id, \n",
    "    stop_id_start, \n",
    "    stop_id_end,\n",
    "    to_char(max(end_stop_time - init_stop_time), 'HH24:MI:SS') as diff_time\n",
    "from\n",
    "    warehouse\n",
    "group by cube (route_id, stop_id_start, stop_id_end)\n",
    "'''\n",
    "\n",
    "cursor_psql.execute(sql)\n",
    "results = cursor_psql.fetchall()\n",
    "for row in results:\n",
    "    if row[1] == None and row[2] == None:\n",
    "        print(f'route: {row[0]}, max_time: {row[-1]}h')"
   ]
  },
  {
   "cell_type": "code",
   "execution_count": 42,
   "id": "3f1150db-a9b6-4fed-b21b-5c1801e4e290",
   "metadata": {},
   "outputs": [
    {
     "name": "stdout",
     "output_type": "stream",
     "text": [
      "route: 106, max_time: 00:13:00h\n",
      "route: 107, max_time: 00:25:00h\n",
      "route: 10M, max_time: 00:25:00h\n",
      "route: 11M, max_time: 00:25:00h\n",
      "route: 12M, max_time: 00:28:00h\n",
      "route: 13M, max_time: 00:27:00h\n",
      "route: 1M, max_time: 00:25:00h\n",
      "route: 200, max_time: 00:44:00h\n",
      "route: 201, max_time: 00:53:00h\n",
      "route: 202, max_time: 00:54:00h\n",
      "route: 203, max_time: 00:51:00h\n",
      "route: 204, max_time: 01:05:30h\n",
      "route: 205, max_time: 01:03:00h\n",
      "route: 206, max_time: 00:48:08h\n",
      "route: 207, max_time: 01:00:00h\n",
      "route: 208, max_time: 00:52:00h\n",
      "route: 209, max_time: 00:36:00h\n",
      "route: 300, max_time: 01:19:00h\n",
      "route: 301, max_time: 01:27:00h\n",
      "route: 302, max_time: 00:41:55h\n",
      "route: 303, max_time: 00:52:10h\n",
      "route: 304, max_time: 00:27:00h\n",
      "route: 305, max_time: 00:41:11h\n",
      "route: 3M, max_time: 00:28:00h\n",
      "route: 400, max_time: 00:42:00h\n",
      "route: 401, max_time: 00:30:00h\n",
      "route: 402, max_time: 00:35:05h\n",
      "route: 403, max_time: 00:40:00h\n",
      "route: 4M, max_time: 00:25:00h\n",
      "route: 500, max_time: 00:46:00h\n",
      "route: 501, max_time: 00:59:18h\n",
      "route: 502, max_time: 00:47:04h\n",
      "route: 503, max_time: 01:01:33h\n",
      "route: 504, max_time: 00:50:00h\n",
      "route: 505, max_time: 00:53:00h\n",
      "route: 506, max_time: 01:00:41h\n",
      "route: 507, max_time: 01:07:55h\n",
      "route: 508, max_time: 01:10:59h\n",
      "route: 5M, max_time: 00:28:00h\n",
      "route: 600, max_time: 00:54:54h\n",
      "route: 601, max_time: 00:55:00h\n",
      "route: 602, max_time: 01:20:00h\n",
      "route: 603, max_time: 01:05:29h\n",
      "route: 604, max_time: 01:02:00h\n",
      "route: 700, max_time: 00:53:00h\n",
      "route: 701, max_time: 01:02:00h\n",
      "route: 702, max_time: 00:51:38h\n",
      "route: 703, max_time: 00:55:44h\n",
      "route: 704, max_time: 01:32:00h\n",
      "route: 705, max_time: 01:08:00h\n",
      "route: 706, max_time: 00:47:58h\n",
      "route: 707, max_time: 00:38:34h\n",
      "route: 7M, max_time: 00:28:00h\n",
      "route: 800, max_time: 00:44:51h\n",
      "route: 801, max_time: 00:42:58h\n",
      "route: 803, max_time: 01:09:00h\n",
      "route: 804, max_time: 00:40:00h\n",
      "route: 805, max_time: 00:43:00h\n",
      "route: 806, max_time: 00:36:00h\n",
      "route: 8M, max_time: 00:28:00h\n",
      "route: 901, max_time: 00:59:02h\n",
      "route: 902, max_time: 00:43:00h\n",
      "route: 903, max_time: 01:09:51h\n",
      "route: 904, max_time: 00:31:00h\n",
      "route: 905, max_time: 00:38:00h\n",
      "route: 906, max_time: 01:05:41h\n",
      "route: 907, max_time: 01:01:00h\n",
      "route: 910, max_time: 00:29:00h\n",
      "route: 920, max_time: 00:22:00h\n",
      "route: 9M, max_time: 00:28:00h\n",
      "route: None, max_time: 01:32:00h\n"
     ]
    }
   ],
   "source": [
    "conn = psycopg2.connect(\"dbname=leo user=leo\")\n",
    "cursor_psql = conn.cursor()\n",
    "\n",
    "# the average duration of the trip per route \n",
    "sql = '''\n",
    "select\n",
    "    route_id, \n",
    "    stop_id_start, \n",
    "    stop_id_end,\n",
    "    to_char(max(end_stop_time - init_stop_time), 'HH24:MI:SS') as diff_time\n",
    "from\n",
    "    warehouse\n",
    "group by rollup (route_id, stop_id_start, stop_id_end)\n",
    "'''\n",
    "\n",
    "cursor_psql.execute(sql)\n",
    "results = cursor_psql.fetchall()\n",
    "for row in results:\n",
    "    if row[1] == None and row[2] == None:\n",
    "        print(f'route: {row[0]}, max_time: {row[-1]}h')"
   ]
  },
  {
   "cell_type": "code",
   "execution_count": 41,
   "id": "9632c8fc-c14b-456f-ab5e-e826fb8c51f7",
   "metadata": {},
   "outputs": [
    {
     "name": "stdout",
     "output_type": "stream",
     "text": [
      "route id: None, init stop time: None, amount: 1434319\n",
      "route id: 207, init stop time: None, amount: 108461\n",
      "route id: 500, init stop time: None, amount: 68674\n",
      "route id: 206, init stop time: None, amount: 67052\n",
      "route id: 403, init stop time: None, amount: 62229\n"
     ]
    }
   ],
   "source": [
    "conn = psycopg2.connect(\"dbname=leo user=leo\")\n",
    "cursor_psql = conn.cursor()\n",
    "\n",
    "# the number of trips at each time per route\n",
    "sql = '''\n",
    "select\n",
    "    route_id, \n",
    "    to_char(init_stop_time, 'HH24:MI:SS') as init_time,\n",
    "    count(*)\n",
    "from\n",
    "    warehouse \n",
    "group by cube (route_id, init_stop_time)\n",
    "order by count(*) desc\n",
    "'''\n",
    "\n",
    "cursor_psql.execute(sql)\n",
    "results = cursor_psql.fetchall()\n",
    "for row in results[:5]:\n",
    "    print(f'route id: {row[0]}, init stop time: {row[1]}, amount: {row[2]}')"
   ]
  },
  {
   "cell_type": "code",
   "execution_count": 43,
   "id": "5651ace2-af0f-4e0a-8ba1-f339542e03fc",
   "metadata": {},
   "outputs": [
    {
     "name": "stdout",
     "output_type": "stream",
     "text": [
      "route id: None, init stop time: None, amount: 1434319\n",
      "route id: 207, init stop time: None, amount: 108461\n",
      "route id: 500, init stop time: None, amount: 68674\n",
      "route id: 206, init stop time: None, amount: 67052\n",
      "route id: 403, init stop time: None, amount: 62229\n"
     ]
    }
   ],
   "source": [
    "conn = psycopg2.connect(\"dbname=leo user=leo\")\n",
    "cursor_psql = conn.cursor()\n",
    "\n",
    "# the number of trips at each time per route\n",
    "sql = '''\n",
    "select\n",
    "    route_id, \n",
    "    to_char(init_stop_time, 'HH24:MI:SS') as init_time,\n",
    "    count(*)\n",
    "from\n",
    "    warehouse \n",
    "group by rollup (route_id, init_stop_time)\n",
    "order by count(*) desc\n",
    "'''\n",
    "\n",
    "cursor_psql.execute(sql)\n",
    "results = cursor_psql.fetchall()\n",
    "for row in results[:5]:\n",
    "    print(f'route id: {row[0]}, init stop time: {row[1]}, amount: {row[2]}')"
   ]
  },
  {
   "cell_type": "code",
   "execution_count": 34,
   "id": "6acdac2e-4d42-4750-a10e-cc90a69b669b",
   "metadata": {},
   "outputs": [
    {
     "name": "stdout",
     "output_type": "stream",
     "text": [
      "trip_id: 106_0_U_10, delay: 00:10:53h, taxi duration: 00:05:34h, bus duration: 00:04:36h\n",
      "trip_id: 106_0_U_10, delay: 00:10:53h, taxi duration: 00:05:34h, bus duration: 00:04:36h\n",
      "trip_id: 106_0_U_10, delay: 00:10:53h, taxi duration: 00:05:34h, bus duration: 00:04:36h\n",
      "trip_id: 106_0_U_14, delay: 00:27:46h, taxi duration: 00:10:27h, bus duration: 00:04:35h\n",
      "trip_id: 106_0_U_14, delay: 00:27:46h, taxi duration: 00:10:27h, bus duration: 00:04:35h\n"
     ]
    }
   ],
   "source": [
    "conn = psycopg2.connect(\"dbname=leo user=leo\")\n",
    "cursor_psql = conn.cursor()\n",
    "\n",
    "# per trip_id, the delay (how much time the bus arrives after the taxi), \n",
    "# the taxi trip duration, and the bus trip duration\n",
    "sql = '''\n",
    "select\n",
    "    trip_id,\n",
    "    to_char(initial_ts, 'HH24:MI:SS') as i_ts,\n",
    "    to_char(init_stop_time, 'HH24:MI:SS') as i_stop_time,\n",
    "    to_char(max(init_stop_time - initial_ts), 'HH24:MI:SS') as diff_time,\n",
    "    to_char(max(final_ts - initial_ts), 'HH24:MI:SS') as taxi_duration,\n",
    "    to_char(max(end_stop_time - init_stop_time), 'HH24:MI:SS') as bus_duration\n",
    "from\n",
    "    warehouse \n",
    "group by cube (trip_id, initial_ts, init_stop_time)\n",
    "'''\n",
    "\n",
    "cursor_psql.execute(sql)\n",
    "results = cursor_psql.fetchall()\n",
    "for row in results[:5]:\n",
    "    print(f'trip_id: {row[0]}, delay: {row[3]}h, taxi duration: {row[4]}h, bus duration: {row[5]}h')"
   ]
  },
  {
   "cell_type": "code",
   "execution_count": 44,
   "id": "11bf46d3-dab7-41fb-8205-9df426796e81",
   "metadata": {},
   "outputs": [
    {
     "name": "stdout",
     "output_type": "stream",
     "text": [
      "trip_id: 106_0_U_10, delay: 00:10:53h, taxi duration: 00:05:34h, bus duration: 00:04:36h\n",
      "trip_id: 106_0_U_10, delay: 00:10:53h, taxi duration: 00:05:34h, bus duration: 00:04:36h\n",
      "trip_id: 106_0_U_10, delay: 00:10:53h, taxi duration: 00:05:34h, bus duration: 00:04:36h\n",
      "trip_id: 106_0_U_14, delay: 00:27:46h, taxi duration: 00:10:27h, bus duration: 00:04:35h\n",
      "trip_id: 106_0_U_14, delay: 00:27:46h, taxi duration: 00:10:27h, bus duration: 00:04:35h\n"
     ]
    }
   ],
   "source": [
    "conn = psycopg2.connect(\"dbname=leo user=leo\")\n",
    "cursor_psql = conn.cursor()\n",
    "\n",
    "# per trip_id, the delay (how much time the bus arrives after the taxi), \n",
    "# the taxi trip duration, and the bus trip duration\n",
    "sql = '''\n",
    "select\n",
    "    trip_id,\n",
    "    to_char(initial_ts, 'HH24:MI:SS') as i_ts,\n",
    "    to_char(init_stop_time, 'HH24:MI:SS') as i_stop_time,\n",
    "    to_char(max(init_stop_time - initial_ts), 'HH24:MI:SS') as diff_time,\n",
    "    to_char(max(final_ts - initial_ts), 'HH24:MI:SS') as taxi_duration,\n",
    "    to_char(max(end_stop_time - init_stop_time), 'HH24:MI:SS') as bus_duration\n",
    "from\n",
    "    warehouse \n",
    "group by rollup (trip_id, initial_ts, init_stop_time)\n",
    "'''\n",
    "\n",
    "cursor_psql.execute(sql)\n",
    "results = cursor_psql.fetchall()\n",
    "for row in results[:5]:\n",
    "    print(f'trip_id: {row[0]}, delay: {row[3]}h, taxi duration: {row[4]}h, bus duration: {row[5]}h')"
   ]
  },
  {
   "cell_type": "code",
   "execution_count": 35,
   "id": "c30c45f1-f888-4323-add5-aeaaefb4bae2",
   "metadata": {},
   "outputs": [
    {
     "name": "stdout",
     "output_type": "stream",
     "text": [
      "trip id: 106_0_U_10, bus delay: 00:10:53h, arrival delay: 00:09:55h\n",
      "trip id: 106_0_U_10, bus delay: 00:10:53h, arrival delay: 00:09:55h\n",
      "trip id: 106_0_U_10, bus delay: 00:10:53h, arrival delay: 00:09:55h\n",
      "trip id: 106_0_U_14, bus delay: 00:27:46h, arrival delay: 00:21:54h\n",
      "trip id: 106_0_U_14, bus delay: 00:27:46h, arrival delay: 00:21:54h\n"
     ]
    }
   ],
   "source": [
    "conn = psycopg2.connect(\"dbname=leo user=leo\")\n",
    "cursor_psql = conn.cursor()\n",
    "\n",
    "# per trip_id, the bus delay, and trip delay\n",
    "sql = '''\n",
    "select\n",
    "    trip_id,\n",
    "    to_char(max(init_stop_time - initial_ts), 'HH24:MI:SS') as bus_delay,\n",
    "    to_char(max(end_stop_time - final_ts), 'HH24:MI:SS') as arrival_delay\n",
    "from\n",
    "    warehouse \n",
    "group by cube (trip_id, initial_ts, init_stop_time)\n",
    "'''\n",
    "\n",
    "cursor_psql.execute(sql)\n",
    "results = cursor_psql.fetchall()\n",
    "for row in results[:5]:\n",
    "    print(f'trip id: {row[0]}, bus delay: {row[1]}h, arrival delay: {row[2]}h')"
   ]
  },
  {
   "cell_type": "code",
   "execution_count": 45,
   "id": "ff1bd851-aaa0-4232-9b81-cb618ab3ebf1",
   "metadata": {},
   "outputs": [
    {
     "name": "stdout",
     "output_type": "stream",
     "text": [
      "trip id: 106_0_U_10, bus delay: 00:10:53h, arrival delay: 00:09:55h\n",
      "trip id: 106_0_U_10, bus delay: 00:10:53h, arrival delay: 00:09:55h\n",
      "trip id: 106_0_U_10, bus delay: 00:10:53h, arrival delay: 00:09:55h\n",
      "trip id: 106_0_U_14, bus delay: 00:27:46h, arrival delay: 00:21:54h\n",
      "trip id: 106_0_U_14, bus delay: 00:27:46h, arrival delay: 00:21:54h\n"
     ]
    }
   ],
   "source": [
    "conn = psycopg2.connect(\"dbname=leo user=leo\")\n",
    "cursor_psql = conn.cursor()\n",
    "\n",
    "# per trip_id, the bus delay, and trip delay\n",
    "sql = '''\n",
    "select\n",
    "    trip_id,\n",
    "    to_char(max(init_stop_time - initial_ts), 'HH24:MI:SS') as bus_delay,\n",
    "    to_char(max(end_stop_time - final_ts), 'HH24:MI:SS') as arrival_delay\n",
    "from\n",
    "    warehouse \n",
    "group by rollup (trip_id, initial_ts, init_stop_time)\n",
    "'''\n",
    "\n",
    "cursor_psql.execute(sql)\n",
    "results = cursor_psql.fetchall()\n",
    "for row in results[:5]:\n",
    "    print(f'trip id: {row[0]}, bus delay: {row[1]}h, arrival delay: {row[2]}h')"
   ]
  },
  {
   "cell_type": "code",
   "execution_count": 57,
   "id": "a2f0971e-3931-4841-bb22-cd3e7493be36",
   "metadata": {},
   "outputs": [
    {
     "name": "stdout",
     "output_type": "stream",
     "text": [
      "trip id: None, route id: None, time: 06:00.00, amount: 12630\n",
      "trip id: None, route id: None, time: 06:10.00, amount: 7930\n",
      "trip id: None, route id: None, time: 06:05.00, amount: 5605\n",
      "trip id: 303_0_U_36, route id: None, time: 06:10.00, amount: 4944\n",
      "trip id: None, route id: 303, time: 06:10.00, amount: 4944\n",
      "trip id: 303_0_U_36, route id: 303, time: 06:10.00, amount: 4944\n",
      "trip id: None, route id: None, time: 06:15.00, amount: 4264\n",
      "trip id: None, route id: None, time: 07:13.20, amount: 3966\n"
     ]
    }
   ],
   "source": [
    "conn = psycopg2.connect(\"dbname=leo user=leo\")\n",
    "cursor_psql = conn.cursor()\n",
    "\n",
    "# number of trips per trip_id per route_id\n",
    "sql = '''\n",
    "select\n",
    "    trip_id,\n",
    "    route_id,\n",
    "    to_char(init_stop_time, 'HH24:MI.SS') as init_st,\n",
    "    count(*)\n",
    "from\n",
    "    warehouse \n",
    "group by cube (trip_id, route_id, init_stop_time)\n",
    "order by count(*) desc\n",
    "'''\n",
    "\n",
    "cursor_psql.execute(sql)\n",
    "results = cursor_psql.fetchall()\n",
    "for row in results[:100]:\n",
    "    if row[2] != None:\n",
    "        print(f'trip id: {row[0]}, route id: {row[1]}, time: {row[2]}, amount: {row[3]}')"
   ]
  },
  {
   "cell_type": "code",
   "execution_count": 62,
   "id": "1eaae953-6df8-45aa-9ac9-71ee644ca669",
   "metadata": {},
   "outputs": [
    {
     "name": "stdout",
     "output_type": "stream",
     "text": [
      "trip id: 303, route id: 303_0_U_36, time: 6:00:00, amount: 4944 trips\n",
      "trip id: 403, route id: 403_1_U_1, time: 7:00:00, amount: 3963 trips\n",
      "trip id: 300, route id: 300_0_U_1, time: 6:00:00, amount: 3557 trips\n",
      "trip id: 500, route id: 500_1_U_126, time: 23:00:00, amount: 3351 trips\n",
      "trip id: 500, route id: 500_1_U_117, time: 22:00:00, amount: 3165 trips\n",
      "trip id: 500, route id: 500_1_U_119, time: 23:00:00, amount: 3078 trips\n",
      "trip id: 400, route id: 400_0_U_58, time: 6:00:00, amount: 2723 trips\n",
      "trip id: 500, route id: 500_1_U_124, time: 22:00:00, amount: 2712 trips\n",
      "trip id: 403, route id: 403_0_U_22, time: 7:00:00, amount: 2468 trips\n"
     ]
    }
   ],
   "source": [
    "conn = psycopg2.connect(\"dbname=leo user=leo\")\n",
    "cursor_psql = conn.cursor()\n",
    "\n",
    "# number of trips per trip_id per route_id\n",
    "sql = '''\n",
    "select\n",
    "    route_id,\n",
    "    trip_id,\n",
    "    DATE_TRUNC('hour', init_stop_time),\n",
    "    count(*)\n",
    "from\n",
    "    warehouse \n",
    "group by rollup (trip_id, route_id, init_stop_time)\n",
    "order by count(*) desc\n",
    "'''\n",
    "\n",
    "cursor_psql.execute(sql)\n",
    "results = cursor_psql.fetchall()\n",
    "for row in results[:100]:\n",
    "    if row[2] != None:\n",
    "        print(f'trip id: {row[0]}, route id: {row[1]}, time: {row[2]}, amount: {row[3]} trips')"
   ]
  },
  {
   "cell_type": "code",
   "execution_count": null,
   "id": "b020e068-6ad7-40b4-bbb5-7e6ea7b06465",
   "metadata": {},
   "outputs": [],
   "source": []
  }
 ],
 "metadata": {
  "kernelspec": {
   "display_name": "Python 3 (ipykernel)",
   "language": "python",
   "name": "python3"
  },
  "language_info": {
   "codemirror_mode": {
    "name": "ipython",
    "version": 3
   },
   "file_extension": ".py",
   "mimetype": "text/x-python",
   "name": "python",
   "nbconvert_exporter": "python",
   "pygments_lexer": "ipython3",
   "version": "3.9.6"
  }
 },
 "nbformat": 4,
 "nbformat_minor": 5
}
