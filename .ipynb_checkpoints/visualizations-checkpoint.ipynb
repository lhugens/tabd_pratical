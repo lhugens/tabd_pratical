{
 "cells": [
  {
   "cell_type": "code",
   "execution_count": 1,
   "id": "af61f750-31cc-4412-8d69-34b6680833b5",
   "metadata": {},
   "outputs": [],
   "source": [
    "import psycopg2\n",
    "import matplotlib.pyplot as plt"
   ]
  },
  {
   "cell_type": "code",
   "execution_count": null,
   "id": "9e3d6690-987b-42eb-9513-fabb601b5005",
   "metadata": {},
   "outputs": [],
   "source": [
    "plt.style.use('dark_background')\n",
    "\n",
    "xmin = -49964.492999999784\n",
    "xmax = -25724.446600000374\n",
    "ymin = 155509.45260000043\n",
    "ymax = 180795.91699999943\n",
    "\n",
    "scale = 1/30000\n",
    "width_in_inches = ((xmax - xmin)/0.0254)*1.1\n",
    "height_in_inches = ((ymax - ymin)/0.0254)*1.1\n",
    "\n",
    "fig = plt.figure(figsize=(width_in_inches*scale, height_in_inches*scale))\n",
    "conn = psycopg2.connect(\"dbname=leo user=leo\")\n",
    "cursor_psql = conn.cursor()\n",
    "\n",
    "######################### \n",
    "# plot only the relevant parished, i.e. the ones the STCP bus goes by\n",
    "#########################\n",
    "\n",
    "sql = \"\"\"\n",
    "select st_astext(st_simplify(proj_boundary,10))\n",
    "from cont_aad_caop2018\n",
    "join (\n",
    "select st_transform(st_setsrid(st_point(stop_lon, stop_lat), 4326), 3763) as geom\n",
    "from stops\n",
    ") as transformed_geom on st_contains(proj_boundary, transformed_geom.geom)\n",
    "where distrito = 'PORTO';\n",
    "\"\"\"\n",
    "\n",
    "cursor_psql.execute(sql)\n",
    "results = cursor_psql.fetchall()\n",
    "\n",
    "#xmin,xmax = 0,-40000\n",
    "#ymin,ymax = 170000,0\n",
    "\n",
    "for row in results:\n",
    "    xs = []\n",
    "    ys = []\n",
    "    points_string = row[0]\n",
    "    points_string = points_string[9:-2].split(\",\")\n",
    "    for point in points_string:\n",
    "        (x,y) = point.split()\n",
    "        xs.append(float(x))\n",
    "        ys.append(float(y))\n",
    "    plt.plot(xs,ys, color='yellow',linewidth=0.2)\n",
    "    #xmin = min(xmin, min(xs))\n",
    "    #xmax = max(xmax, max(xs))\n",
    "    #ymin = min(ymin, min(ys))\n",
    "    #ymax = max(ymax, max(ys))\n",
    "#print(f\"xmin {xmin}, xmax {xmax}\")\n",
    "#print(f\"ymin {ymin}, ymax {ymax}\")\n",
    "\n",
    "######################### \n",
    "# plot the bus routes\n",
    "######################### \n",
    "\n",
    "ids = {}\n",
    "id = 0\n",
    "sql = \"SELECT shape_id from shapes;\"\n",
    "cursor_psql.execute(sql)\n",
    "results = cursor_psql.fetchall()\n",
    "\n",
    "shapes = []\n",
    "\n",
    "id = 0\n",
    "for s in results:\n",
    "    ids[s[0]] = id\n",
    "    id += 1\n",
    "    shapes.append([])\n",
    "\n",
    "sql = \"\"\"\n",
    "select shape_id, \n",
    "st_astext(st_transform(st_setsrid(st_point(shape_pt_lon, shape_pt_lat), 4326), 3763)) as geometry,\n",
    "shape_pt_sequence\n",
    "from shapes\n",
    "\"\"\"\n",
    "cursor_psql.execute(sql)\n",
    "results = cursor_psql.fetchall()\n",
    "\n",
    "dic = {}\n",
    "dic_id = 0\n",
    "\n",
    "for result in results:\n",
    "    id_p = result[0]\n",
    "    id_s = ids[id_p]\n",
    "    sequence = int(result[2])\n",
    "    ps = result[1][6:-1].split()\n",
    "    x = float(ps[0])\n",
    "    y = float(ps[1])\n",
    "    shapes[id_s].append((sequence,x,y))\n",
    "\n",
    "for s in shapes:\n",
    "    s = sorted(s,key=lambda x:s[0])\n",
    "\n",
    "for row in shapes:\n",
    "    xs = []\n",
    "    ys = []\n",
    "    for p in row:\n",
    "        x = float(p[1])\n",
    "        y = float(p[2])\n",
    "        xs.append(x)\n",
    "        ys.append(y)\n",
    "    plt.plot(xs,ys,color='gray',alpha=0.2)\n",
    "\n",
    "######################### \n",
    "# plot the bus stops\n",
    "######################### \n",
    "\n",
    "sql = \"\"\"\n",
    "select st_astext(st_transform(st_setsrid(st_point(stop_lon,stop_lat),4326),3763))\n",
    "from stops\n",
    "\"\"\"\n",
    "cursor_psql.execute(sql)\n",
    "results = cursor_psql.fetchall()\n",
    "\n",
    "xs = []\n",
    "ys = []\n",
    "for row in results:\n",
    "    point_string = row[0]\n",
    "    point_string = point_string[6:-1]\n",
    "    x,y = point_string.split(\" \")\n",
    "    xs.append(float(x))\n",
    "    ys.append(float(y))\n",
    "plt.scatter(xs,ys,s=1,zorder=3,color='red')"
   ]
  },
  {
   "cell_type": "markdown",
   "id": "11e5455a-ce58-4039-ba89-dfdb022c8396",
   "metadata": {},
   "source": [
    "'''\n",
    "tentativas de querys para encontrar onde começa o serviço de taxi\n",
    "mais perto de cada paragem stcp\n",
    "\n",
    "sql = '''\n",
    "select st_astext(st_setsrid(st_point(s.stop_lon, s.stop_lat), 4326)::geography) as p1,\n",
    "st_astext(t.initial_point::geography) as p2\n",
    "from stops s\n",
    "cross join taxi_services t\n",
    "limit 1\n",
    "''' works\n",
    "\n",
    "sql = \"\"\"\n",
    "select \n",
    "stop_id,\n",
    "id,\n",
    "st_distance(\n",
    "    st_setsrid(st_point(s.stop_lon, s.stop_lat), 4326),\n",
    "    initial_point\n",
    ") as distance\n",
    "from stops as s\n",
    "cross join taxi_services as t\n",
    "-- order by distance -- this takes minutes to run\n",
    "limit 5\n",
    "\"\"\" works\n",
    " \n",
    "'''"
   ]
  },
  {
   "cell_type": "markdown",
   "id": "34ca73c8-ecbe-4546-974b-fea746c6ce50",
   "metadata": {},
   "source": [
    "Descobrir que stop é que está mais perto de cada initial_point do taxi_service"
   ]
  },
  {
   "cell_type": "code",
   "execution_count": 9,
   "id": "4805f19b-04d7-4079-a8fb-49a63e8fe3d6",
   "metadata": {},
   "outputs": [
    {
     "name": "stdout",
     "output_type": "stream",
     "text": [
      "('HSA5', 'POINT(-41078.847939939296 164403.65921647602)', 'POINT(-41078.834564523844 164403.6491458325)')\n",
      "('HSA5', 'POINT(-41078.847939939296 164403.65921647602)', 'POINT(-41078.834564523844 164403.6491458325)')\n",
      "('HSA5', 'POINT(-41078.847939939296 164403.65921647602)', 'POINT(-41078.834564523844 164403.6491458325)')\n",
      "('STLN1', 'POINT(-41218.244809381074 167944.8838838612)', 'POINT(-41218.271058716084 167944.84182868706)')\n",
      "('COMB4', 'POINT(-39017.06409720385 166362.51917483468)', 'POINT(-39017.059393896976 166362.4569556811)')\n"
     ]
    }
   ],
   "source": [
    "conn = psycopg2.connect(\"dbname=leo user=leo\")\n",
    "cursor_psql = conn.cursor()\n",
    "sql = '''\n",
    "select s.stop_id,\n",
    "st_astext(st_transform(st_setsrid(st_point(s.stop_lon, s.stop_lat), 4326),3763)) as sp,\n",
    "st_astext(st_transform(t.initial_point, 3763)) as ip\n",
    "from stops s\n",
    "cross join taxi_services t\n",
    "order by st_distance(st_setsrid(st_point(s.stop_lon, s.stop_lat), 4326),t.initial_point)\n",
    "limit 10\n",
    "'''\n",
    "cursor_psql.execute(sql)\n",
    "results = cursor_psql.fetchall()\n",
    "for result in results[:5]:\n",
    "    print(result)"
   ]
  },
  {
   "cell_type": "markdown",
   "id": "0ce7b086-1a4c-4aa3-99a5-bf0a6bebff20",
   "metadata": {},
   "source": [
    "Para cada stop_id, descobrir que autocarros é que passam por lá, a essa hora ou mais tarde."
   ]
  },
  {
   "cell_type": "code",
   "execution_count": 13,
   "id": "2fadfd19-2221-4a85-b6eb-1bf530826c1c",
   "metadata": {},
   "outputs": [
    {
     "name": "stdout",
     "output_type": "stream",
     "text": [
      "('12M_0_D_2', datetime.time(1, 3))\n",
      "('12M_0_D_4', datetime.time(2, 3))\n",
      "('12M_0_D_2', datetime.time(1, 3))\n",
      "('12M_0_D_4', datetime.time(2, 3))\n",
      "('12M_0_D_2', datetime.time(1, 3))\n",
      "('12M_0_D_4', datetime.time(2, 3))\n",
      "('304_0_D_1', datetime.time(6, 24))\n",
      "('304_1_D_2', datetime.time(6, 30))\n",
      "('806_1_D_2', datetime.time(15, 24, 40))\n",
      "('806_1_D_4', datetime.time(18, 24, 40))\n",
      "('205_0_S_3', datetime.time(6, 53, 21))\n",
      "('205_0_S_5', datetime.time(8, 40, 7))\n",
      "('204_0_S_73', datetime.time(18, 6, 53))\n",
      "('204_0_S_75', datetime.time(19, 56, 53))\n",
      "('904_1_S_1', datetime.time(6, 18, 44))\n",
      "('904_1_S_3', datetime.time(7, 18, 44))\n",
      "('1M_1_U_1', datetime.time(0, 42, 57))\n",
      "('1M_1_U_3', datetime.time(1, 42, 57))\n",
      "('900_1_U_1', datetime.time(6, 29))\n",
      "('900_0_U_2', datetime.time(6, 40))\n"
     ]
    }
   ],
   "source": [
    "conn = psycopg2.connect(\"dbname=leo user=leo\")\n",
    "cursor_psql = conn.cursor()\n",
    "for stop_id, stop_point, initial_point in results:\n",
    "    sql = f'''\n",
    "        select trip_id, arrival_time\n",
    "        from stop_times \n",
    "        where stop_id = '{stop_id}'\n",
    "        order by stop_id\n",
    "        limit 2\n",
    "    '''\n",
    "    cursor_psql.execute(sql)\n",
    "    results1 = cursor_psql.fetchall()\n",
    "    for result in results1:\n",
    "        print(result)"
   ]
  },
  {
   "cell_type": "markdown",
   "id": "3b4d5e51-67c9-40a7-9a88-bf62819b1fa5",
   "metadata": {},
   "source": [
    "Para cada trip_id, ver a sua trajetória para descobrir qual delas é que nos deixa mais perto do final_point"
   ]
  },
  {
   "cell_type": "markdown",
   "id": "beea6f01-841e-4fcf-9762-90b66252efb7",
   "metadata": {},
   "source": [
    "fazer uma collections de stops para esse autocarro, e fazer nearest point dentro da collection"
   ]
  },
  {
   "cell_type": "code",
   "execution_count": 18,
   "id": "4b0690f7-18f5-4d0e-9367-ccadc877f9d8",
   "metadata": {},
   "outputs": [
    {
     "ename": "UndefinedFunction",
     "evalue": "function st_collect(character varying) does not exist\nLINE 3:         st_collect(s.stop_id)\n                ^\nHINT:  No function matches the given name and argument types. You might need to add explicit type casts.\n",
     "output_type": "error",
     "traceback": [
      "\u001b[0;31m---------------------------------------------------------------------------\u001b[0m",
      "\u001b[0;31mUndefinedFunction\u001b[0m                         Traceback (most recent call last)",
      "Cell \u001b[0;32mIn[18], line 11\u001b[0m\n\u001b[1;32m      3\u001b[0m \u001b[38;5;28;01mfor\u001b[39;00m trip_id, _ \u001b[38;5;129;01min\u001b[39;00m results1:\n\u001b[1;32m      4\u001b[0m     sql \u001b[38;5;241m=\u001b[39m \u001b[38;5;124mf\u001b[39m\u001b[38;5;124m'''\u001b[39m\n\u001b[1;32m      5\u001b[0m \u001b[38;5;124m        select st_astext(st_transform(t.final_point, 3763)) as fp,\u001b[39m\n\u001b[1;32m      6\u001b[0m \u001b[38;5;124m        st_collect(s.stop_id)\u001b[39m\n\u001b[0;32m   (...)\u001b[0m\n\u001b[1;32m      9\u001b[0m \u001b[38;5;124m        order by st_closestpoint(st_setsrid(st_point(s.stop_lon, s.stop_lat), 4326),t.final_point)\u001b[39m\n\u001b[1;32m     10\u001b[0m \u001b[38;5;124m    \u001b[39m\u001b[38;5;124m'''\u001b[39m\n\u001b[0;32m---> 11\u001b[0m \u001b[43mcursor_psql\u001b[49m\u001b[38;5;241;43m.\u001b[39;49m\u001b[43mexecute\u001b[49m\u001b[43m(\u001b[49m\u001b[43msql\u001b[49m\u001b[43m)\u001b[49m\n\u001b[1;32m     12\u001b[0m results2 \u001b[38;5;241m=\u001b[39m cursor_psql\u001b[38;5;241m.\u001b[39mfetchall()\n\u001b[1;32m     13\u001b[0m \u001b[38;5;28;01mfor\u001b[39;00m result \u001b[38;5;129;01min\u001b[39;00m results2[:\u001b[38;5;241m5\u001b[39m]:\n",
      "\u001b[0;31mUndefinedFunction\u001b[0m: function st_collect(character varying) does not exist\nLINE 3:         st_collect(s.stop_id)\n                ^\nHINT:  No function matches the given name and argument types. You might need to add explicit type casts.\n"
     ]
    }
   ],
   "source": [
    "conn = psycopg2.connect(\"dbname=leo user=leo\")\n",
    "cursor_psql = conn.cursor()\n",
    "for trip_id, _ in results1:\n",
    "    sql = f'''\n",
    "        select st_astext(st_transform(t.final_point, 3763)) as fp,\n",
    "        st_collect(s.stop_id)\n",
    "        from stops s\n",
    "        cross join taxi_services t\n",
    "        order by st_closestpoint(st_setsrid(st_point(s.stop_lon, s.stop_lat), 4326),t.final_point)\n",
    "    '''\n",
    "cursor_psql.execute(sql)\n",
    "results2 = cursor_psql.fetchall()\n",
    "for result in results2[:5]:\n",
    "    print(result)"
   ]
  },
  {
   "cell_type": "markdown",
   "id": "b06d2830-bb33-4a35-87e1-f14603987a81",
   "metadata": {},
   "source": [
    "Uma das métricas que temos também de adicionar ao data warehouse, é o número de requests de cada route_id"
   ]
  },
  {
   "cell_type": "code",
   "execution_count": null,
   "id": "4eb9b621-5d17-493a-8184-d9f0043cbe0f",
   "metadata": {},
   "outputs": [],
   "source": [
    "conn = psycopg2.connect(\"dbname=leo user=leo\")\n",
    "cursor_psql = conn.cursor()\n",
    "sql = '''\n",
    "    select trip_id, count(*) as requests\n",
    "    from ???\n",
    "    group by trip_id;\n",
    "'''\n",
    "\n",
    "cursor_psql.execute(sql)\n",
    "results2 = cursor_psql.fetchall()\n",
    "for result in results2[:5]:\n",
    "    print(result)"
   ]
  }
 ],
 "metadata": {
  "kernelspec": {
   "display_name": "Python 3 (ipykernel)",
   "language": "python",
   "name": "python3"
  },
  "language_info": {
   "codemirror_mode": {
    "name": "ipython",
    "version": 3
   },
   "file_extension": ".py",
   "mimetype": "text/x-python",
   "name": "python",
   "nbconvert_exporter": "python",
   "pygments_lexer": "ipython3",
   "version": "3.9.6"
  }
 },
 "nbformat": 4,
 "nbformat_minor": 5
}
